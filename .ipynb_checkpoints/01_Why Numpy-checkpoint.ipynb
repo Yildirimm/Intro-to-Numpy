{
 "cells": [
  {
   "cell_type": "markdown",
   "id": "e60bc39a",
   "metadata": {},
   "source": [
    "# Why Numpy"
   ]
  },
  {
   "cell_type": "markdown",
   "id": "6f89ee4d",
   "metadata": {},
   "source": [
    "## Numpy vs Lists"
   ]
  },
  {
   "cell_type": "markdown",
   "id": "fa4623e3",
   "metadata": {},
   "source": [
    "## 1 \n",
    "Lists are consisted of 4 identities,\n",
    "\n",
    "    Size \n",
    "    Reference Count\n",
    "    Object Type\n",
    "    Object Value\n",
    "and Lists need to store all of them.\n",
    "\n",
    "Numpy is just a value of its own."
   ]
  },
  {
   "cell_type": "markdown",
   "id": "f5d042bd",
   "metadata": {},
   "source": [
    "## 2\n",
    "Numpy can be used for \n",
    "    \n",
    "    Mathematics (MATLAB Replacement)\n",
    "    Plotting (Matplotlib)\n",
    "    Backend (Pandas, Images)\n",
    "    Machine Learning"
   ]
  },
  {
   "cell_type": "markdown",
   "id": "2b5d5870",
   "metadata": {},
   "source": [
    "## Load in NumPy"
   ]
  },
  {
   "cell_type": "code",
   "execution_count": 1,
   "id": "d5c01d28",
   "metadata": {},
   "outputs": [],
   "source": [
    "import numpy as np"
   ]
  },
  {
   "cell_type": "markdown",
   "id": "81481059",
   "metadata": {},
   "source": [
    "### Basics"
   ]
  },
  {
   "cell_type": "code",
   "execution_count": 2,
   "id": "f0c0e12b",
   "metadata": {},
   "outputs": [
    {
     "name": "stdout",
     "output_type": "stream",
     "text": [
      "[1 2 3]\n"
     ]
    }
   ],
   "source": [
    "a = np.array([1,2,3])\n",
    "print(a)"
   ]
  },
  {
   "cell_type": "code",
   "execution_count": 3,
   "id": "33515daa",
   "metadata": {},
   "outputs": [
    {
     "name": "stdout",
     "output_type": "stream",
     "text": [
      "[[9. 8. 1.]\n",
      " [6. 5. 7.]]\n"
     ]
    }
   ],
   "source": [
    "b = np.array([[9.0,8.0,1.0],[6.0,5.0,7.0]])\n",
    "print(b)"
   ]
  },
  {
   "cell_type": "code",
   "execution_count": 4,
   "id": "b5849311",
   "metadata": {},
   "outputs": [
    {
     "name": "stdout",
     "output_type": "stream",
     "text": [
      "1\n",
      "2\n"
     ]
    }
   ],
   "source": [
    "# Get Dimension\n",
    "print(a.ndim)\n",
    "print(b.ndim)"
   ]
  },
  {
   "cell_type": "code",
   "execution_count": 5,
   "id": "38a63046",
   "metadata": {},
   "outputs": [
    {
     "name": "stdout",
     "output_type": "stream",
     "text": [
      "(3,)\n",
      "(2, 3)\n"
     ]
    }
   ],
   "source": [
    "# Get Shape\n",
    "print(a.shape)\n",
    "print(b.shape)"
   ]
  },
  {
   "cell_type": "code",
   "execution_count": 6,
   "id": "5bc7d1f2",
   "metadata": {},
   "outputs": [
    {
     "name": "stdout",
     "output_type": "stream",
     "text": [
      "int32\n",
      "float64\n"
     ]
    }
   ],
   "source": [
    "# Get Type\n",
    "print(a.dtype)\n",
    "print(b.dtype)"
   ]
  },
  {
   "cell_type": "code",
   "execution_count": 7,
   "id": "c25432b6",
   "metadata": {},
   "outputs": [
    {
     "name": "stdout",
     "output_type": "stream",
     "text": [
      "int16\n"
     ]
    }
   ],
   "source": [
    "# Change the datatype to save some memory\n",
    "a = np.array([1,2,3], dtype='int16')\n",
    "print(a.dtype)"
   ]
  },
  {
   "cell_type": "markdown",
   "id": "0f2dacd4",
   "metadata": {},
   "source": [
    "### Accessing/Changing Specific Elements"
   ]
  },
  {
   "cell_type": "code",
   "execution_count": 8,
   "id": "b0b8e4a8",
   "metadata": {},
   "outputs": [
    {
     "name": "stdout",
     "output_type": "stream",
     "text": [
      "[[ 1  2  3  4  5  6  7]\n",
      " [ 8  9 10 11 12 13 14]]\n"
     ]
    }
   ],
   "source": [
    "c = np.array([[1,2,3,4,5,6,7],[8,9,10,11,12,13,14]])\n",
    "print(c)"
   ]
  },
  {
   "cell_type": "code",
   "execution_count": 9,
   "id": "674e2d1d",
   "metadata": {},
   "outputs": [
    {
     "name": "stdout",
     "output_type": "stream",
     "text": [
      "13\n"
     ]
    }
   ],
   "source": [
    "# get a specific element [row, column]\n",
    "print(c[1,5])"
   ]
  },
  {
   "cell_type": "code",
   "execution_count": 10,
   "id": "425b4bcc",
   "metadata": {},
   "outputs": [
    {
     "data": {
      "text/plain": [
       "array([1, 2, 3, 4, 5, 6, 7])"
      ]
     },
     "execution_count": 10,
     "metadata": {},
     "output_type": "execute_result"
    }
   ],
   "source": [
    "# Get a specific row\n",
    "c[0,:]"
   ]
  },
  {
   "cell_type": "code",
   "execution_count": 11,
   "id": "4eb5c130",
   "metadata": {},
   "outputs": [
    {
     "data": {
      "text/plain": [
       "array([1, 8])"
      ]
     },
     "execution_count": 11,
     "metadata": {},
     "output_type": "execute_result"
    }
   ],
   "source": [
    "# Get a specific column\n",
    "c[:,0]"
   ]
  },
  {
   "cell_type": "code",
   "execution_count": 12,
   "id": "7565230b",
   "metadata": {},
   "outputs": [
    {
     "name": "stdout",
     "output_type": "stream",
     "text": [
      "[2 4 6]\n",
      "[2 4 6]\n"
     ]
    }
   ],
   "source": [
    "# Getting tailored interval [StartIndex:StopIndex:StepSize]\n",
    "print(c[0, 1:6:2])\n",
    "print(c[0, 1:-1:2])"
   ]
  },
  {
   "cell_type": "code",
   "execution_count": 13,
   "id": "d3a712d1",
   "metadata": {},
   "outputs": [
    {
     "name": "stdout",
     "output_type": "stream",
     "text": [
      "[[ 1  2  3  4  5  6  7]\n",
      " [ 8  9 10 11 12 13 14]] \n",
      "\n",
      "[[ 1  2  3  4  5  6  7]\n",
      " [ 8  9 10 11 12 20 14]]\n"
     ]
    }
   ],
   "source": [
    "# Change values\n",
    "print(c,'\\n')\n",
    "\n",
    "c[1,5] = 20\n",
    "print(c)"
   ]
  },
  {
   "cell_type": "code",
   "execution_count": 14,
   "id": "f2df6dcd",
   "metadata": {},
   "outputs": [
    {
     "name": "stdout",
     "output_type": "stream",
     "text": [
      "[[ 1  2  3  4  5  6  7]\n",
      " [ 8  9 10 11 12 20 14]] \n",
      "\n",
      "[[ 1  2  5  4  5  6  7]\n",
      " [ 8  9  5 11 12 20 14]] \n",
      "\n",
      "[[ 1  2  2  4  5  6  7]\n",
      " [ 8  9  4 11 12 20 14]]\n"
     ]
    }
   ],
   "source": [
    "# Change rows\n",
    "print(c, '\\n')\n",
    "c[:,2] = 5\n",
    "print(c, '\\n')\n",
    "c[:,2] = [2,4]\n",
    "print(c)"
   ]
  },
  {
   "cell_type": "markdown",
   "id": "63f13094",
   "metadata": {},
   "source": [
    "### 3D Example"
   ]
  },
  {
   "cell_type": "code",
   "execution_count": 15,
   "id": "643b8081",
   "metadata": {},
   "outputs": [
    {
     "data": {
      "text/plain": [
       "array([[[1, 2],\n",
       "        [3, 4]],\n",
       "\n",
       "       [[5, 6],\n",
       "        [7, 8]]])"
      ]
     },
     "execution_count": 15,
     "metadata": {},
     "output_type": "execute_result"
    }
   ],
   "source": [
    "d = np.array([[[1,2],[3,4]],[[5,6],[7,8]]])\n",
    "d"
   ]
  },
  {
   "cell_type": "code",
   "execution_count": 16,
   "id": "d37fa385",
   "metadata": {},
   "outputs": [
    {
     "name": "stdout",
     "output_type": "stream",
     "text": [
      "2\n",
      "[[1 2]\n",
      " [5 6]]\n"
     ]
    }
   ],
   "source": [
    "# Get a specific element [WhichMatrix, Row, Column]\n",
    "print(d[0,0,1])\n",
    "print(d[:,0,:])"
   ]
  },
  {
   "cell_type": "markdown",
   "id": "6b9ee7e6",
   "metadata": {},
   "source": [
    "### Initializing Arrays"
   ]
  },
  {
   "cell_type": "code",
   "execution_count": 20,
   "id": "abe76567",
   "metadata": {},
   "outputs": [
    {
     "data": {
      "text/plain": [
       "array([[0., 0., 0.],\n",
       "       [0., 0., 0.]])"
      ]
     },
     "execution_count": 20,
     "metadata": {},
     "output_type": "execute_result"
    }
   ],
   "source": [
    "# With zeros\n",
    "np.zeros((2,3))"
   ]
  },
  {
   "cell_type": "code",
   "execution_count": 23,
   "id": "2a0a3232",
   "metadata": {},
   "outputs": [
    {
     "data": {
      "text/plain": [
       "array([[[[0., 0.],\n",
       "         [0., 0.]],\n",
       "\n",
       "        [[0., 0.],\n",
       "         [0., 0.]],\n",
       "\n",
       "        [[0., 0.],\n",
       "         [0., 0.]]],\n",
       "\n",
       "\n",
       "       [[[0., 0.],\n",
       "         [0., 0.]],\n",
       "\n",
       "        [[0., 0.],\n",
       "         [0., 0.]],\n",
       "\n",
       "        [[0., 0.],\n",
       "         [0., 0.]]]])"
      ]
     },
     "execution_count": 23,
     "metadata": {},
     "output_type": "execute_result"
    }
   ],
   "source": [
    "# With zeros\n",
    "np.zeros((2,3,2,2)) # 4Dimensional"
   ]
  },
  {
   "cell_type": "code",
   "execution_count": 19,
   "id": "a4e50b1a",
   "metadata": {},
   "outputs": [
    {
     "data": {
      "text/plain": [
       "array([[[1, 1],\n",
       "        [1, 1]],\n",
       "\n",
       "       [[1, 1],\n",
       "        [1, 1]],\n",
       "\n",
       "       [[1, 1],\n",
       "        [1, 1]],\n",
       "\n",
       "       [[1, 1],\n",
       "        [1, 1]]])"
      ]
     },
     "execution_count": 19,
     "metadata": {},
     "output_type": "execute_result"
    }
   ],
   "source": [
    "# With ones\n",
    "np.ones((4,2,2), dtype='int32')"
   ]
  },
  {
   "cell_type": "code",
   "execution_count": 24,
   "id": "c0227f1a",
   "metadata": {},
   "outputs": [
    {
     "data": {
      "text/plain": [
       "array([[8, 8, 8],\n",
       "       [8, 8, 8]])"
      ]
     },
     "execution_count": 24,
     "metadata": {},
     "output_type": "execute_result"
    }
   ],
   "source": [
    "# Any number\n",
    "np.full((2,3), 8)"
   ]
  },
  {
   "cell_type": "code",
   "execution_count": 34,
   "id": "abc4b753",
   "metadata": {},
   "outputs": [
    {
     "name": "stdout",
     "output_type": "stream",
     "text": [
      "[[0.40585267 0.84138875]\n",
      " [0.37537606 0.33454549]\n",
      " [0.88469311 0.56514952]] \n",
      "\n",
      "(2, 2, 2) \n",
      " [[[0.88905107 0.95119277]\n",
      "  [0.1123161  0.12188227]]\n",
      "\n",
      " [[0.43810198 0.35567799]\n",
      "  [0.33210066 0.42130599]]]\n"
     ]
    }
   ],
   "source": [
    "# Array with Random numbers between 0 and 1\n",
    "print(np.random.rand(3,2), '\\n')\n",
    "print(d.shape,'\\n', np.random.random_sample(d.shape))"
   ]
  },
  {
   "cell_type": "code",
   "execution_count": 36,
   "id": "4da2a0e4",
   "metadata": {},
   "outputs": [
    {
     "data": {
      "text/plain": [
       "array([[ 2,  7,  1, -1,  0],\n",
       "       [ 4,  0, -3, -1,  7],\n",
       "       [-2,  7,  7,  6, -1]])"
      ]
     },
     "execution_count": 36,
     "metadata": {},
     "output_type": "execute_result"
    }
   ],
   "source": [
    "# Random Integer Numbers\n",
    "np.random.randint(-4,8, size=(3,5)) # start, stop, size"
   ]
  },
  {
   "cell_type": "code",
   "execution_count": 37,
   "id": "0f6f546e",
   "metadata": {},
   "outputs": [
    {
     "data": {
      "text/plain": [
       "array([[1., 0., 0., 0., 0.],\n",
       "       [0., 1., 0., 0., 0.],\n",
       "       [0., 0., 1., 0., 0.],\n",
       "       [0., 0., 0., 1., 0.],\n",
       "       [0., 0., 0., 0., 1.]])"
      ]
     },
     "execution_count": 37,
     "metadata": {},
     "output_type": "execute_result"
    }
   ],
   "source": [
    "# Identity Matrix\n",
    "np.identity(5)"
   ]
  },
  {
   "cell_type": "code",
   "execution_count": 42,
   "id": "aea1d6d8",
   "metadata": {},
   "outputs": [
    {
     "name": "stdout",
     "output_type": "stream",
     "text": [
      "[[1 2 3]\n",
      " [1 2 3]\n",
      " [1 2 3]]\n"
     ]
    }
   ],
   "source": [
    "arr = np.array([[1,2,3]]) # 2D array\n",
    "r1 = np.repeat(arr, 3, axis=0)\n",
    "print(r1)"
   ]
  },
  {
   "cell_type": "code",
   "execution_count": 43,
   "id": "e9fdf8ba",
   "metadata": {},
   "outputs": [
    {
     "name": "stdout",
     "output_type": "stream",
     "text": [
      "[[1 1 1 2 2 2 3 3 3]]\n"
     ]
    }
   ],
   "source": [
    "arr = np.array([[1,2,3]]) # 2D array\n",
    "r1 = np.repeat(arr, 3, axis=1)\n",
    "print(r1)"
   ]
  }
 ],
 "metadata": {
  "kernelspec": {
   "display_name": "Python 3 (ipykernel)",
   "language": "python",
   "name": "python3"
  },
  "language_info": {
   "codemirror_mode": {
    "name": "ipython",
    "version": 3
   },
   "file_extension": ".py",
   "mimetype": "text/x-python",
   "name": "python",
   "nbconvert_exporter": "python",
   "pygments_lexer": "ipython3",
   "version": "3.9.13"
  }
 },
 "nbformat": 4,
 "nbformat_minor": 5
}
